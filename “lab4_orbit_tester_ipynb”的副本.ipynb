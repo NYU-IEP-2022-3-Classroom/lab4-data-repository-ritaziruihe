{
  "nbformat": 4,
  "nbformat_minor": 0,
  "metadata": {
    "colab": {
      "provenance": [],
      "collapsed_sections": [],
      "include_colab_link": true
    },
    "kernelspec": {
      "name": "python3",
      "display_name": "Python 3"
    },
    "language_info": {
      "name": "python"
    }
  },
  "cells": [
    {
      "cell_type": "markdown",
      "metadata": {
        "id": "view-in-github",
        "colab_type": "text"
      },
      "source": [
        "<a href=\"https://colab.research.google.com/github/NYU-IEP-2022-3-Classroom/lab4-data-repository-ritaziruihe/blob/main/%E2%80%9Clab4_orbit_tester_ipynb%E2%80%9D%E7%9A%84%E5%89%AF%E6%9C%AC.ipynb\" target=\"_parent\"><img src=\"https://colab.research.google.com/assets/colab-badge.svg\" alt=\"Open In Colab\"/></a>"
      ]
    },
    {
      "cell_type": "markdown",
      "source": [
        "#MODIFY THIS BLOCK\n",
        "to contain the correct information for your experiments"
      ],
      "metadata": {
        "id": "V801clzBnLLi"
      }
    },
    {
      "cell_type": "code",
      "source": [
        "!rm -rf /content/data/\n",
        "\n",
        "# MODIFY THIS LINE SO THAT THE URL POINTS TO YOUR DATA REPOSITORY\n",
        "!git clone https://github.com/NYU-IEP-2022-3-Classroom/lab4-data-repository-ritaziruihe data #change to your github user name - do not erase the \"data\" afterwards\n",
        "\n",
        "#UPDATE THESE!\n",
        "setupNumber = 42 #if you worked on different setups on different days, then enter the first setup, and make a note below\n",
        "section = 1 # 1 = M, 2 = T AM, 3 = T PM, 4 = W \n",
        "date = \"14-Nov-2022\" #change to the date of the first day of your experiments\n",
        "angleOfWall = 260 #enter the angle of the major axis IN DEGREES according to your setup when the bob is swinging parallel to the wall\n",
        "notes = \"nothing to report\" #any important notes other people should know"
      ],
      "metadata": {
        "id": "V7cCf27xi427",
        "colab": {
          "base_uri": "https://localhost:8080/"
        },
        "outputId": "6dcc8ab0-6f4a-43a3-b30a-437fe9a8fc98"
      },
      "execution_count": 2,
      "outputs": [
        {
          "output_type": "stream",
          "name": "stdout",
          "text": [
            "Cloning into 'data'...\n",
            "remote: Enumerating objects: 3, done.\u001b[K\n",
            "remote: Counting objects: 100% (3/3), done.\u001b[K\n",
            "remote: Compressing objects: 100% (2/2), done.\u001b[K\n",
            "remote: Total 3 (delta 0), reused 2 (delta 0), pack-reused 0\u001b[K\n",
            "Unpacking objects: 100% (3/3), done.\n"
          ]
        }
      ]
    },
    {
      "cell_type": "markdown",
      "source": [
        "#RUN THIS BLOCK ONCE\n",
        "to set up the functions"
      ],
      "metadata": {
        "id": "pvyLWuZtnTQT"
      }
    },
    {
      "cell_type": "code",
      "source": [
        "#@title $\\gets$ Run Me Once (I have the code setup and function definitions)\n",
        "\n",
        "# necessary libraries\n",
        "import numpy as np\n",
        "import matplotlib.pyplot as plt\n",
        "import os, glob\n",
        "import scipy.optimize\n",
        "import itertools,operator\n",
        "import copy\n",
        "from sklearn.utils import Bunch\n",
        "import json\n",
        "\n",
        "\n",
        "#this line makes sure you followed the direction above; if you see 20 copies of \"you didn't change the directory to match your name!\" \n",
        "#that means you need to update the data repository name in the cell block above and again\n",
        "if os.path.isdir('data/20221110154929'):\n",
        "  for i in range(20):\n",
        "    print (\"You didn't change the directory to match your name!\")\n",
        "\n",
        "def findAngleFiles (startdir):\n",
        "  #angleFiles = findAngleFiles(startdir)\n",
        "  # input stardir: path to top level directory (e.g. data_repository/large bob)\n",
        "  # output angleFiles: array with paths to angle files  \n",
        "  #https://stackoverflow.com/questions/3964681/find-all-files-in-a-directory-with-extension-txt-in-python\n",
        "  #https://www.kite.com/python/answers/how-to-search-for-specific-files-in-subdirectories-in-python\n",
        "\n",
        "  angleFiles = sorted(glob.glob(startdir + '/**/*_angle.txt'))\n",
        "  return (angleFiles)\n",
        "\n",
        "# fitting an exponential\n",
        "# exponential has two parameters, the y-intercept (a) and the\n",
        "# exponential multiplier constant (b which for our purposes is -1/tau)\n",
        "# uses cauchy loss function to reduce the influence of outliers\n",
        "# inputs: x,y - numpy arrays\n",
        "# outputs: a: fit value of y(0)\n",
        "#          b: fit value of exonent\n",
        "#          fity: a * e^(bx) \n",
        "def fitExponentialCauchyLoss(x,y):\n",
        "  xx = x - np.min(x)\n",
        "  yy = y / np.max(y)\n",
        "  res = scipy.optimize.least_squares(lambda p : p[0]*np.exp(p[1] * xx)-yy,  (1, -1/max(xx)), loss = 'cauchy')\n",
        "  a = res.x[0]\n",
        "  b = res.x[1]\n",
        "  a = a*np.max(y)*np.exp(-b*np.min(x))\n",
        "  return (a,b, a*np.exp(b*x))\n",
        "\n",
        "# load angle file and do some minor processing\n",
        "# inputs: filepath - path of the file\n",
        "# outputs: bunch object with fields\n",
        "# number crossing number since start of experiment (a full period is 2 crossings)\n",
        "# time time of crossing since start of experiment (resolution = 1us, accuracy unknown)\n",
        "# majaxis major axis (in mm) from fitter\n",
        "# minaxis minor axis (in mm) from fitter\n",
        "# theta angle of major axis (in radians) relative to x-axis, from fitter\n",
        "# slope slope of the voltage vs. time trace (in V/s) at time of crossing --  proportional to the total energy of the bob\n",
        "# dnamplitude denoised amplitude (```sqrt(majaxis**2 + minaxis**2)```) (in mm)  found by fitting the amplitude to a decaying exponential using a cost-function that discards outliers\n",
        "# dnmajaxis denoised major axis (see fit amplitude) (in mm)\n",
        "# dnslope denoised slope (in V/s)\n",
        "# filename name of the file the experiment was loaded from\n",
        "\n",
        "def loadAngleFile(filepath, maxTime = 10000000):\n",
        "  try:\n",
        "    number, time, majaxis, minaxis, theta, slope = np.loadtxt(filepath, skiprows = 1, unpack = True)\n",
        "    _,_,fitamplitude = fitExponentialCauchyLoss(time-time[0],np.sqrt(minaxis**2 + majaxis**2))\n",
        "    _,_,fitmajaxis = fitExponentialCauchyLoss(time-time[0],majaxis)\n",
        "    _,_,fitslope = fitExponentialCauchyLoss(time-time[0],slope)\n",
        "    expt = Bunch(number=number-number[0],time=time-time[0],majaxis=majaxis,dnamplitude=fitamplitude,minaxis=minaxis,theta=np.unwrap(theta),slope=slope,dnmajaxis=fitmajaxis, dnslope=fitslope,filename=filepath, include = True)\n",
        "  except:\n",
        "    expt = Bunch(include = False)\n",
        "  return expt\n",
        "  #expt.include = np.mean(np.abs(majaxis*minaxis)) < 4000 and (theta[-1]-theta[0])  \n",
        "\n",
        "def trimExperiment(oldexpt, timerange):\n",
        "  expt = copy.copy(oldexpt)\n",
        "  valid = np.logical_and(expt.time >= np.min(timerange), expt.time <= np.max(timerange))\n",
        "  expt.time = expt.time[valid]\n",
        "  expt.time = expt.time - expt.time[0]\n",
        "  expt.number = expt.number[valid]\n",
        "  expt.number = expt.number - expt.number[0]\n",
        "  expt.majaxis = expt.majaxis[valid]\n",
        "  expt.minaxis = expt.minaxis[valid]\n",
        "  expt.theta = expt.theta[valid]\n",
        "  expt.slope = expt.slope[valid] \n",
        "  _,_,expt.dnamplitude = fitExponentialCauchyLoss(expt.time,np.sqrt(expt.minaxis**2 + expt.majaxis**2))\n",
        "  _,_,expt.dnmajaxis = fitExponentialCauchyLoss(expt.time,expt.majaxis)\n",
        "  _,_,expt.dnslope = fitExponentialCauchyLoss(expt.time,expt.slope)\n",
        "  return expt\n",
        "\n",
        "def plotAndSortAngleFiles(expt):\n",
        "  for e,i in zip(expt,range(len(expt))):\n",
        "    if (not(e.include)):\n",
        "      continue\n",
        "    fig, (ax1, ax2) = plt.subplots(nrows=1, ncols=2)\n",
        "    ax1.plot(e.time,e.minaxis,'C0')\n",
        "    ax1a = ax1.twinx()\n",
        "    ax1a.plot(e.time,e.majaxis,'C1')\n",
        "    ax1.set_ylabel('minor axis', color='C0')\n",
        "    ax1.tick_params(axis='y', color='C0', labelcolor='C0')\n",
        "    ax1a.set_ylabel('major axis', color='C1')\n",
        "    ax1a.tick_params(axis='y', color='C1', labelcolor='C1')\n",
        "    ax1.set_xlabel('time (s)')  \n",
        "    ax2.plot(e.time, 180/np.pi*e.theta)\n",
        "    ax2.set_xlabel('time(s)')\n",
        "    ax2.set_ylabel('maj axis anlge (deg)')\n",
        "    e.include = np.mean(np.abs(e.majaxis*e.minaxis)) < 4000 and np.abs((e.theta[-1]-e.theta[0])/(e.time[-1]-e.time[0])) < 1000*(np.pi/180)/3600\n",
        "    _,name = os.path.split(e.filename)\n",
        "    ax1.set_title ('expt {}: {}'.format(i,name))\n",
        "    if e.include:\n",
        "      ax2.set_title ('to be included')\n",
        "    else:\n",
        "      ax2.set_title('to be excluded')\n",
        "    fig.tight_layout()\n",
        "    fig.show()\n"
      ],
      "metadata": {
        "id": "PgAeYVE1m7_A"
      },
      "execution_count": 1,
      "outputs": []
    },
    {
      "cell_type": "markdown",
      "metadata": {
        "id": "RBFO6nTSr9p1"
      },
      "source": [
        "#Run this block of code whenever you add data to the github repository\n",
        "\n",
        "to verify the data is loading correctly and you can access it"
      ]
    },
    {
      "cell_type": "code",
      "metadata": {
        "id": "rl2JqjsMqXUV",
        "cellView": "form"
      },
      "source": [
        "#@title $\\gets$ Run Me whenever you update your git repository\n",
        "\n",
        "!git -C /content/data/ pull\n",
        "\n",
        "startdir = '/content/data'\n",
        "\n",
        "angleFiles = findAngleFiles(startdir)\n",
        "print('found {} data files'.format(len(angleFiles)))\n",
        "expt = [loadAngleFile(af) for af in angleFiles]\n",
        "print('loaded {} data files'.format(len(angleFiles)))\n",
        "\n",
        "plotAndSortAngleFiles(expt)\n",
        "\n",
        "if os.path.isdir('data/20221110154929'):\n",
        "  for i in range(20):\n",
        "    print (\"instructor sample data used - rerun first cell with your information!\")\n",
        "\n"
      ],
      "execution_count": null,
      "outputs": []
    },
    {
      "cell_type": "markdown",
      "source": [
        "#Trim or exclude the experiments if needed\n",
        "\n",
        "If an experiment is bad (i.e. you didn't mean to hit record or Phil bumped the table, or whatever, but you accidentally included it in the git repository), set `expt[that experiment].include = False`\n",
        "\n",
        "e.g. if experiments 0 and 4 were mistakes, you'd write\n",
        "```\n",
        "expt[0].include = False\n",
        "expt[4].include = False\n",
        "```\n",
        "\n",
        "Above, we automatically excluded data sets with extreme axes values (major * minor axes > 4000 mm^2) or extreme measured rotation rates (>1,000 deg / hr), because these probably reflect errors in the fitter; if you have a data set that actually contains such extreme values and want it included, then you can set `expt[that experiment].include = True`\n",
        "\n",
        "If a data set is good, but has problematic elements at the beginning or the end (e.g. the amplitude got small enough at the end that the detector started missing crossings), you can use `expt[that experiment] = trimExperiment(expt[that experiment], timerange)`\n",
        "\n",
        "e.g. if experiment 0 was initially 310 seconds long, to discard the first and last 10 seconds (use 10 to 300), you would type\n",
        "\n",
        "```\n",
        "expt[0] = trimExperiment(expt[0],(10,300))\n",
        "```\n",
        "\n"
      ],
      "metadata": {
        "id": "TwMdHZxWnn8G"
      }
    },
    {
      "cell_type": "code",
      "source": [
        "#do any trimming or excluding here\n",
        "#\n",
        "\n",
        "#plot the trimmed and included experiments again, to make sure things look good\n",
        "plotAndSortAngleFiles(expt)"
      ],
      "metadata": {
        "id": "sTdMuIXtpkv2"
      },
      "execution_count": null,
      "outputs": []
    },
    {
      "cell_type": "markdown",
      "metadata": {
        "id": "AMRZJ4X1lRSt"
      },
      "source": [
        "## Run this block to save your data to a json file\n",
        "This stores the experimental parameters you entered and the trimmed data files to a single text file in json format. \n",
        "\n",
        "**you should copy this file to your individual github repository AND to the shared class repository**\n",
        "\n",
        "1. open the file explorer to the left, click on the dots next to the file name and download to the local computer\n",
        "2. copy the file into the local github repository location, then use github desktop to sync OR use the web interface to upload directly\n",
        "3. use the web interface to upload the same file to the class repository - don't forget to enter a commit message and save. Note that your commit messages will be publicly visible to the world, so don't include your name or any naughty words.\n",
        "\n"
      ]
    },
    {
      "cell_type": "code",
      "metadata": {
        "id": "7B8LIoN_3A6y"
      },
      "source": [
        "fits = []\n",
        "for e in expt:\n",
        "  if (not(e.include)):\n",
        "    continue\n",
        "  fits.append({\"filename\":e.filename, \"number\":e.number.tolist(), \"time\":e.time.tolist(), \"majaxis\":e.majaxis.tolist(), \"minaxis\":e.minaxis.tolist(), \n",
        "               \"theta\":e.theta.tolist(), \"slope\":e.slope.tolist()})\n",
        "               \n",
        "results = {\"setupNumber\":setupNumber, \"section\":section, \"thetaWall\":angleOfWall, \"notes\":notes, \"fits\":fits}\n",
        "outputname = 'section{:d}setup{:d}-{}.json'.format(int(section), int(setupNumber), date)\n",
        "file = open(outputname, 'w')\n",
        "json.dump(results, file)\n",
        "file.close()\n",
        "\n",
        "print('data saved in {} - BE SURE TO COPY TO YOUR GITHUB'.format(outputname))"
      ],
      "execution_count": null,
      "outputs": []
    }
  ]
}